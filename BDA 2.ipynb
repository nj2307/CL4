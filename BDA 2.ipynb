{
 "cells": [
  {
   "cell_type": "code",
   "execution_count": 4,
   "id": "3f3ea6f3",
   "metadata": {},
   "outputs": [
    {
     "name": "stdout",
     "output_type": "stream",
     "text": [
      "[[19, 22], [43, 50]]\n"
     ]
    }
   ],
   "source": [
    "from functools import reduce\n",
    "\n",
    "def map_func(A, B, row, col):\n",
    "    return sum(A[row][i] * B[i][col] for i in range(len(B)))\n",
    "\n",
    "def reduce_func(a, b):\n",
    "    return a + [b]\n",
    "\n",
    "def matrix_multiply(A, B):\n",
    "    if len(A[0]) != len(B):\n",
    "        raise ValueError(\"Incompatible matrices for multiplication\")\n",
    "        \n",
    "    result = []\n",
    "    for row in range(len(A)):\n",
    "        mapped = [map_func(A, B, row, col) for col in range(len(B[0]))]\n",
    "        result_row = reduce(reduce_func, mapped, [])\n",
    "        result.append(result_row)\n",
    "        \n",
    "    return result\n",
    "\n",
    "A = [[1, 2], [3, 4]]\n",
    "B = [[5, 6], [7, 8]]\n",
    "\n",
    "result = matrix_multiply(A, B)\n",
    "print(result)\n"
   ]
  },
  {
   "cell_type": "code",
   "execution_count": null,
   "id": "67fe7c5f",
   "metadata": {},
   "outputs": [],
   "source": []
  }
 ],
 "metadata": {
  "kernelspec": {
   "display_name": "Python 3",
   "language": "python",
   "name": "python3"
  },
  "language_info": {
   "codemirror_mode": {
    "name": "ipython",
    "version": 3
   },
   "file_extension": ".py",
   "mimetype": "text/x-python",
   "name": "python",
   "nbconvert_exporter": "python",
   "pygments_lexer": "ipython3",
   "version": "3.8.8"
  }
 },
 "nbformat": 4,
 "nbformat_minor": 5
}
